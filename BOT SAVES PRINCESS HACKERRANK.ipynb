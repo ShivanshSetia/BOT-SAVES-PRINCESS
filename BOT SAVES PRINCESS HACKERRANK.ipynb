{
 "cells": [
  {
   "cell_type": "code",
   "execution_count": null,
   "metadata": {},
   "outputs": [],
   "source": [
    "def displayPathtoPrincess(n,grid):\n",
    "#print all the moves here\n",
    "    p_pos=0\n",
    "    m_pos=0\n",
    "    c=0\n",
    "    \n",
    "    for i in grid :\n",
    "        \n",
    "        if 'p' in i:\n",
    "            p_pos = c\n",
    "            p = i.index('p')\n",
    "        if 'm' in i:\n",
    "            m_pos = c\n",
    "            m = i.index('m')\n",
    "        c=c+1\n",
    "    way = []\n",
    "    while(p_pos!=m_pos):\n",
    "        if (p_pos<m_pos):\n",
    "            m_pos = m_pos -1\n",
    "            way.append('UP')\n",
    "        if (p_pos>m_pos):\n",
    "            m_pos = m_pos+1\n",
    "            way.append('DOWN')\n",
    "    while(p!=m):\n",
    "        if(p<m):\n",
    "            way.append('LEFT')\n",
    "            m=m-1\n",
    "        if(p>m):\n",
    "            way.append('RIGHT')\n",
    "            m=m+1\n",
    "    for i in way:\n",
    "        print(i)\n",
    "        \n",
    "    \n",
    "\n",
    "m = int(input())\n",
    "grid = [] \n",
    "for i in range(0, m): \n",
    "    grid.append(input().strip())\n",
    "\n",
    "displayPathtoPrincess(m,grid)"
   ]
  },
  {
   "cell_type": "code",
   "execution_count": null,
   "metadata": {},
   "outputs": [],
   "source": []
  },
  {
   "cell_type": "code",
   "execution_count": null,
   "metadata": {},
   "outputs": [],
   "source": []
  },
  {
   "cell_type": "code",
   "execution_count": null,
   "metadata": {},
   "outputs": [],
   "source": []
  },
  {
   "cell_type": "code",
   "execution_count": null,
   "metadata": {},
   "outputs": [],
   "source": []
  }
 ],
 "metadata": {
  "kernelspec": {
   "display_name": "Python 3",
   "language": "python",
   "name": "python3"
  },
  "language_info": {
   "codemirror_mode": {
    "name": "ipython",
    "version": 3
   },
   "file_extension": ".py",
   "mimetype": "text/x-python",
   "name": "python",
   "nbconvert_exporter": "python",
   "pygments_lexer": "ipython3",
   "version": "3.5.2"
  }
 },
 "nbformat": 4,
 "nbformat_minor": 2
}
